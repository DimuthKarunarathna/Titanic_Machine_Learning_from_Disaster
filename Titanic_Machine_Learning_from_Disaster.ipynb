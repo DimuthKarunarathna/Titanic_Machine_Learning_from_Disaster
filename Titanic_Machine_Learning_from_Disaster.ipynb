{
  "nbformat": 4,
  "nbformat_minor": 0,
  "metadata": {
    "colab": {
      "provenance": []
    },
    "kernelspec": {
      "name": "python3",
      "display_name": "Python 3"
    },
    "language_info": {
      "name": "python"
    }
  },
  "cells": [
    {
      "cell_type": "code",
      "source": [
        "import pandas as pd\n",
        "from sklearn.ensemble import RandomForestClassifier\n",
        "from sklearn.model_selection import train_test_split\n",
        "from sklearn.metrics import accuracy_score\n",
        "\n",
        "# Load Files\n",
        "# Assuming these are the correct paths from the previous fix\n",
        "train = pd.read_csv(\"/content/drive/MyDrive/Titanic/train.csv\")\n",
        "test = pd.read_csv(\"/content/drive/MyDrive/Titanic/test.csv\")\n",
        "\n",
        "\n",
        "# Preprocess data\n",
        "def preprocess(df):\n",
        "    # Create a copy of the DataFrame to avoid modifying the original and chaining issues\n",
        "    df_processed = df.copy()\n",
        "\n",
        "    # Now perform operations on the copy\n",
        "    if 'Sex' in df_processed.columns:\n",
        "        df_processed['Sex'] = df_processed['Sex'].map({'male': 0, 'female': 1})\n",
        "\n",
        "    # Use direct assignment instead of inplace=True with fillna\n",
        "    if 'Age' in df_processed.columns:\n",
        "         df_processed['Age'] = df_processed['Age'].fillna(df_processed['Age'].median())\n",
        "\n",
        "    if 'Fare' in df_processed.columns:\n",
        "        df_processed['Fare'] = df_processed['Fare'].fillna(df_processed['Fare'].median())\n",
        "\n",
        "    if 'Embarked' in df_processed.columns:\n",
        "        df_processed['Embarked'] = df_processed['Embarked'].fillna('S')\n",
        "        df_processed['Embarked'] = df_processed['Embarked'].map({'S': 0, 'C': 1, 'Q': 2})\n",
        "\n",
        "    # Ensure all expected columns are present before selecting\n",
        "    cols_to_select = ['Pclass', 'Sex', 'Age', 'SibSp', 'Parch', 'Fare', 'Embarked']\n",
        "    present_cols = [col for col in cols_to_select if col in df_processed.columns]\n",
        "    return df_processed[present_cols] # Return the modified copy\n",
        "\n",
        "\n",
        "# Apply preprocessing\n",
        "X_train = preprocess(train)\n",
        "y_train = train['Survived'] # Survived is the target, so we take it from the original train df\n",
        "X_test = preprocess(test)\n",
        "\n",
        "# Evaluate accuracy on the training set\n",
        "train_accuracy = model.score(X_train, y_train)\n",
        "print(f\"Training Accuracy: {train_accuracy:.4f}\")\n",
        "\n",
        "\n",
        "# Train a model\n",
        "model = RandomForestClassifier(n_estimators=100, random_state=42)\n",
        "model.fit(X_train, y_train)\n",
        "\n",
        "# Predict on test set\n",
        "predictions = model.predict(X_test)\n",
        "\n",
        "# Create submission file\n",
        "submission = pd.DataFrame({\n",
        "    \"PassengerId\": test[\"PassengerId\"], # Use PassengerId from the original test df\n",
        "    \"Survived\": predictions\n",
        "})\n",
        "submission.to_csv(\"/content/drive/MyDrive/Titanic/submission.csv\", index=False)"
      ],
      "metadata": {
        "colab": {
          "base_uri": "https://localhost:8080/"
        },
        "id": "OAsK_eQALjbe",
        "outputId": "c3c48c02-37ad-454a-f112-809797aa7173"
      },
      "execution_count": 16,
      "outputs": [
        {
          "output_type": "stream",
          "name": "stdout",
          "text": [
            "Training Accuracy: 0.9798\n"
          ]
        }
      ]
    }
  ]
}